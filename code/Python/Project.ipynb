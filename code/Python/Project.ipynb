{
 "cells": [
  {
   "cell_type": "markdown",
   "metadata": {},
   "source": [
    "591 Project"
   ]
  },
  {
   "cell_type": "code",
   "execution_count": 2,
   "metadata": {},
   "outputs": [],
   "source": [
    "# imports\n",
    "import pandas as pd\n",
    "import sqlite3\n",
    "from sqlite3 import Error\n",
    "from igraph import *\n",
    "import matplotlib.pyplot as plt\n",
    "import networkx as nx"
   ]
  },
  {
   "cell_type": "code",
   "execution_count": 2,
   "metadata": {},
   "outputs": [],
   "source": [
    "imdb_db = 'datasets/imdb.db'"
   ]
  },
  {
   "cell_type": "code",
   "execution_count": 3,
   "metadata": {},
   "outputs": [],
   "source": [
    "def pushtoDB(db_file, df, tablename):\n",
    "    conn = None\n",
    "    try:\n",
    "        conn = sqlite3.connect(db_file)\n",
    "        df.to_sql(tablename, conn, if_exists='replace', index=False, chunksize=1000)\n",
    "    except Error as e:\n",
    "        sys.exit(e)\n",
    "    finally:\n",
    "        if conn:\n",
    "            conn.close()\n",
    "\n",
    "def DBQuery(db_file, query):\n",
    "    conn = None\n",
    "    try:\n",
    "        conn = sqlite3.connect(db_file)\n",
    "        c = conn.cursor()\n",
    "        c.execute(query)\n",
    "        df = pd.DataFrame(c.fetchall())\n",
    "        return df\n",
    "    except Error as e:\n",
    "        sys.exit(e)\n",
    "    finally:\n",
    "        if conn:\n",
    "            conn.close()"
   ]
  },
  {
   "cell_type": "code",
   "execution_count": 31,
   "metadata": {},
   "outputs": [],
   "source": [
    "# Movie and Personell Link\n",
    "principals = pd.read_csv('datasets/title.principals.tsv', sep='\\t')\n",
    "\n",
    "# Movie Basic Details\n",
    "basics = pd.read_csv('datasets/title.basics.tsv', sep='\\t', low_memory=False)\n",
    "\n",
    "# Persoannel Basic Details\n",
    "names = pd.read_csv('datasets/name.basics.tsv', sep='\\t', low_memory=False)\n"
   ]
  },
  {
   "cell_type": "code",
   "execution_count": 32,
   "metadata": {},
   "outputs": [],
   "source": [
    "# clean dataframe\n",
    "principals.replace('\\\\N', '', inplace=True)\n",
    "basics.replace('\\\\N', '', inplace=True)\n",
    "names.replace('\\\\N', '', inplace=True)\n",
    "\n",
    "basics[\"startYear\"] = pd.to_numeric(basics[\"startYear\"])"
   ]
  },
  {
   "cell_type": "code",
   "execution_count": 37,
   "metadata": {},
   "outputs": [],
   "source": [
    "pushtoDB(imdb_db, principals, 'principals')\n",
    "pushtoDB(imdb_db, basics, 'basics')\n",
    "pushtoDB(imdb_db, names, 'names')"
   ]
  },
  {
   "cell_type": "code",
   "execution_count": null,
   "metadata": {},
   "outputs": [],
   "source": [
    "# Persoannel Basic Details\n",
    "akas = pd.read_csv('datasets/title.akas.tsv', sep='\\t', low_memory=False)\n",
    "akas.replace('\\\\N', '', inplace=True)\n",
    "pushtoDB(imdb_db, akas, 'akas')"
   ]
  },
  {
   "cell_type": "code",
   "execution_count": 75,
   "metadata": {},
   "outputs": [],
   "source": [
    "# Year\n",
    "startYear = 2020"
   ]
  },
  {
   "cell_type": "code",
   "execution_count": 76,
   "metadata": {},
   "outputs": [],
   "source": [
    "edgequery = \"\"\"\n",
    "SELECT\n",
    "\tp.nconst, p.tconst, p.category\n",
    "FROM\n",
    "\tprincipals p\n",
    "\tJOIN basics b ON p.tconst = b.tconst\n",
    "WHERE (p.category = 'actor'\n",
    "\tOR p.category = 'actress'\n",
    "\tOR p.category = 'director')\n",
    "AND b.titleType = 'movie'\n",
    "AND b.startYear >= \"\"\" + str(startYear)\n",
    "\n",
    "edgelist = DBQuery(imdb_db, edgequery).rename(columns={0: \"source\", 1: \"target\", 2: \"category\"})"
   ]
  },
  {
   "cell_type": "code",
   "execution_count": null,
   "metadata": {},
   "outputs": [],
   "source": [
    "# actors/directors -> movie\n",
    "# edges attribute has role e.g. actor or director\n",
    "# edge is directed - acted in the movie or directed the movie\n",
    "actorMovieg = Graph.DataFrame(edgelist, directed=True)"
   ]
  },
  {
   "cell_type": "code",
   "execution_count": null,
   "metadata": {},
   "outputs": [],
   "source": [
    "# actor <-> actor\n",
    "# for every movie, get all the actors and actresses\n",
    "# create a clique for each movie\n",
    "\n",
    "# get distinct movies from edgelist\n",
    "uniquemovies = edgelist.target.unique().tolist()\n",
    "\n",
    "data = []\n",
    "\n",
    "for a in range(len(uniquemovies)):\n",
    "    movie = uniquemovies[a]\n",
    "    actorlist = edgelist[(edgelist.target == movie) & ((edgelist.category == 'actor') | (edgelist.category == 'actress'))].iloc[:, 0].tolist()\n",
    "    if (len(actorlist) == 1):\n",
    "        continue\n",
    "    for i in range(len(actorlist)):\n",
    "        for j in range(i+1, len(actorlist)):\n",
    "            data.append([actorlist[i], actorlist[j]])\n",
    "\n",
    "\n",
    "actorsCollab = pd.DataFrame(data, columns = ['actor1', 'actor2'])"
   ]
  },
  {
   "cell_type": "code",
   "execution_count": null,
   "metadata": {},
   "outputs": [],
   "source": [
    "actorsCollabg = Graph.DataFrame(actorsCollab, directed=False)"
   ]
  },
  {
   "cell_type": "code",
   "execution_count": null,
   "metadata": {},
   "outputs": [],
   "source": [
    "# director -> actor\n",
    "# for every movie, get all the actors and actresses\n",
    "# create a clique for each movie\n",
    "\n",
    "# get distinct movies from edgelist\n",
    "uniquemovies = edgelist.target.unique().tolist()\n",
    "\n",
    "data = []\n",
    "\n",
    "for a in range(len(uniquemovies)):\n",
    "    movie = uniquemovies[a]\n",
    "    directorList = edgelist[(edgelist.target == movie) & ((edgelist.category == 'director'))].iloc[:, 0].tolist()\n",
    "    actorlist = edgelist[(edgelist.target == movie) & ((edgelist.category == 'actor') | (edgelist.category == 'actress'))].iloc[:, 0].tolist()\n",
    "    for i in range(len(directorList)):\n",
    "        for j in range(len(actorlist)):\n",
    "            data.append([directorList[i], actorlist[j]])\n",
    "\n",
    "\n",
    "directorActorCollab = pd.DataFrame(data, columns = ['director', 'actor'])"
   ]
  },
  {
   "cell_type": "code",
   "execution_count": null,
   "metadata": {},
   "outputs": [],
   "source": [
    "directorActorCollabg = Graph.DataFrame(directorActorCollab, directed=True)"
   ]
  },
  {
   "cell_type": "code",
   "execution_count": null,
   "metadata": {},
   "outputs": [],
   "source": [
    "def getHighestNodes(xlist, g, nodevalue):\n",
    "    max = 0\n",
    "    n = \"\"\n",
    "    for i in range(len(xlist)):\n",
    "        if xlist[i] > max:\n",
    "            max = xlist[i]\n",
    "            n = g.vs[i][nodevalue]\n",
    "        elif xlist[i] == max:\n",
    "            n = n + \"; \" + g.vs[i][nodevalue]\n",
    "    return \"(\" + str(max) + \")\" + n"
   ]
  },
  {
   "cell_type": "code",
   "execution_count": null,
   "metadata": {},
   "outputs": [],
   "source": [
    "Names = [\"Actor -> Movie <- Director\", \"Actor - Actor\", \"Director -> Actor\"]\n",
    "Degs = []\n",
    "Eccs = []\n",
    "Clos = []\n",
    "Btws = []\n",
    "Katz = []\n",
    "PgRs = []\n",
    "Katz = []\n",
    "\n",
    "for i in range(3):\n",
    "    if (i == 0):\n",
    "        g = actorMovieg\n",
    "    elif (i == 1):\n",
    "        g = actorsCollabg\n",
    "    elif (i == 2):\n",
    "        g = directorActorCollabg\n",
    "\n",
    "    gNX = g.to_networkx()\n",
    "\n",
    "    nodevalue = \"name\"\n",
    "\n",
    "    # Degree\n",
    "    deg = g.degree()\n",
    "    Degs.append(getHighestNodes(deg, g, nodevalue))\n",
    "\n",
    "    # Eccentricity\n",
    "    ecc = g.eccentricity()\n",
    "    Eccs.append(getHighestNodes(ecc, g, nodevalue))\n",
    "\n",
    "    # Closeness\n",
    "    clo = g.closeness()\n",
    "    Clos.append(getHighestNodes(clo, g, nodevalue))\n",
    "\n",
    "    # Betweenness\n",
    "    btw = g.betweenness()\n",
    "    Btws.append(getHighestNodes(btw, g, nodevalue))\n",
    "\n",
    "    # PageRank\n",
    "    pgr = g.pagerank()\n",
    "    PgRs.append(getHighestNodes(pgr, g, nodevalue))\n",
    "\n",
    "    # Katz Index\n",
    "    # maxEigen = max(nx.adjacency_spectrum(gNX))\n",
    "    # alpha = 1/(abs(maxEigen)) * 0.85 # using 0.85 as an arbitrary factor\n",
    "    # centrality = nx.katz_centrality(gNX, alpha)\n",
    "    # cclist = list(pd.DataFrame(list(centrality.items()))[1])\n",
    "    # Katz.append(getHighestNodes(cclist, g, nodevalue))\n"
   ]
  },
  {
   "cell_type": "code",
   "execution_count": null,
   "metadata": {},
   "outputs": [],
   "source": [
    "data = {'Graph': Names,\n",
    "        'Max Degree':Degs,\n",
    "        'Eccentricity': Eccs,\n",
    "        'Closeness': Clos,\n",
    "        'Betweenness': Btws,\n",
    "        'Page Rank': PgRs}\n",
    "#data = [Names, Degs, Eccs, Clos, Btws, PgRs]\n",
    "\n",
    "cenMat = pd.DataFrame(data)"
   ]
  },
  {
   "cell_type": "code",
   "execution_count": null,
   "metadata": {},
   "outputs": [
    {
     "data": {
      "text/html": [
       "<div>\n",
       "<style scoped>\n",
       "    .dataframe tbody tr th:only-of-type {\n",
       "        vertical-align: middle;\n",
       "    }\n",
       "\n",
       "    .dataframe tbody tr th {\n",
       "        vertical-align: top;\n",
       "    }\n",
       "\n",
       "    .dataframe thead th {\n",
       "        text-align: right;\n",
       "    }\n",
       "</style>\n",
       "<table border=\"1\" class=\"dataframe\">\n",
       "  <thead>\n",
       "    <tr style=\"text-align: right;\">\n",
       "      <th></th>\n",
       "      <th>Graph</th>\n",
       "      <th>Max Degree</th>\n",
       "      <th>Eccentricity</th>\n",
       "      <th>Closeness</th>\n",
       "      <th>Betweenness</th>\n",
       "      <th>Page Rank</th>\n",
       "    </tr>\n",
       "  </thead>\n",
       "  <tbody>\n",
       "    <tr>\n",
       "      <th>0</th>\n",
       "      <td>Actor -&gt; Movie &lt;- Director</td>\n",
       "      <td>(9)tt18989324; tt4040980; tt5637536</td>\n",
       "      <td>(1.0)nm0000116; nm0000244; nm0000318; nm000061...</td>\n",
       "      <td>(1.0)nm0000318; nm0000702; nm0004645; nm016084...</td>\n",
       "      <td>(0); nm0000116; nm0000244; nm0000318; nm000061...</td>\n",
       "      <td>(0.02662767431122056)tt18989324; tt4040980</td>\n",
       "    </tr>\n",
       "    <tr>\n",
       "      <th>1</th>\n",
       "      <td>Actor - Actor</td>\n",
       "      <td>(10)nm0000706; nm0757855; nm1318596; nm2772105</td>\n",
       "      <td>(2.0)nm12564204; nm1876808; nm2070349; nm38465...</td>\n",
       "      <td>(1.0)nm0000244; nm0000610; nm0000706; nm000164...</td>\n",
       "      <td>(9.0)nm4722180</td>\n",
       "      <td>(0.01932950770160072)nm4722180</td>\n",
       "    </tr>\n",
       "    <tr>\n",
       "      <th>2</th>\n",
       "      <td>Director -&gt; Actor</td>\n",
       "      <td>(12)nm0000116</td>\n",
       "      <td>(1.0)nm0000116; nm0005363; nm0204628; nm119271...</td>\n",
       "      <td>(1.0)nm0000116; nm0001467; nm0005363; nm020462...</td>\n",
       "      <td>(0); nm0000116; nm0000244; nm0000610; nm000070...</td>\n",
       "      <td>(0.02490017746228926)nm12564204</td>\n",
       "    </tr>\n",
       "  </tbody>\n",
       "</table>\n",
       "</div>"
      ],
      "text/plain": [
       "                        Graph                                      Max Degree  \\\n",
       "0  Actor -> Movie <- Director             (9)tt18989324; tt4040980; tt5637536   \n",
       "1               Actor - Actor  (10)nm0000706; nm0757855; nm1318596; nm2772105   \n",
       "2           Director -> Actor                                   (12)nm0000116   \n",
       "\n",
       "                                        Eccentricity  \\\n",
       "0  (1.0)nm0000116; nm0000244; nm0000318; nm000061...   \n",
       "1  (2.0)nm12564204; nm1876808; nm2070349; nm38465...   \n",
       "2  (1.0)nm0000116; nm0005363; nm0204628; nm119271...   \n",
       "\n",
       "                                           Closeness  \\\n",
       "0  (1.0)nm0000318; nm0000702; nm0004645; nm016084...   \n",
       "1  (1.0)nm0000244; nm0000610; nm0000706; nm000164...   \n",
       "2  (1.0)nm0000116; nm0001467; nm0005363; nm020462...   \n",
       "\n",
       "                                         Betweenness  \\\n",
       "0  (0); nm0000116; nm0000244; nm0000318; nm000061...   \n",
       "1                                     (9.0)nm4722180   \n",
       "2  (0); nm0000116; nm0000244; nm0000610; nm000070...   \n",
       "\n",
       "                                    Page Rank  \n",
       "0  (0.02662767431122056)tt18989324; tt4040980  \n",
       "1              (0.01932950770160072)nm4722180  \n",
       "2             (0.02490017746228926)nm12564204  "
      ]
     },
     "execution_count": 72,
     "metadata": {},
     "output_type": "execute_result"
    }
   ],
   "source": [
    "cenMat"
   ]
  },
  {
   "cell_type": "markdown",
   "metadata": {},
   "source": [
    "\n"
   ]
  },
  {
   "cell_type": "code",
   "execution_count": 3,
   "metadata": {},
   "outputs": [],
   "source": [
    "slinestatscsv = 'datasets/sline/top3nodes.csv'\n",
    "\n",
    "slinestats = pd.read_csv(slinestatscsv)"
   ]
  },
  {
   "cell_type": "code",
   "execution_count": 6,
   "metadata": {},
   "outputs": [],
   "source": [
    "g130df = pd.read_csv('datasets/sline/130.edges', delim_whitespace=True)\n",
    "\n",
    "g130 = Graph.DataFrame(g130df)"
   ]
  },
  {
   "cell_type": "code",
   "execution_count": 12,
   "metadata": {},
   "outputs": [
    {
     "data": {
      "image/png": "[encoded data removed]",
      "text/plain": [
       "<Figure size 432x288 with 1 Axes>"
      ]
     },
     "metadata": {
      "needs_background": "light"
     },
     "output_type": "display_data"
    }
   ],
   "source": [
    "fig, ax = plt.subplots()\n",
    "\n",
    "plot(g130, target=ax)"
   ]
  }
 ],
 "metadata": {
  "interpreter": {
   "hash": "ef4a22edc4c73cd0ec6c20689073d4bb57afd6d8eaa4a8d352ce9c8d90c7b79e"
  },
  "kernelspec": {
   "display_name": "Python 3.10.4 ('hypergraph')",
   "language": "python",
   "name": "python3"
  },
  "language_info": {
   "codemirror_mode": {
    "name": "ipython",
    "version": 3
   },
   "file_extension": ".py",
   "mimetype": "text/x-python",
   "name": "python",
   "nbconvert_exporter": "python",
   "pygments_lexer": "ipython3",
   "version": "3.10.4"
  },
  "orig_nbformat": 4
 },
 "nbformat": 4,
 "nbformat_minor": 2
}
